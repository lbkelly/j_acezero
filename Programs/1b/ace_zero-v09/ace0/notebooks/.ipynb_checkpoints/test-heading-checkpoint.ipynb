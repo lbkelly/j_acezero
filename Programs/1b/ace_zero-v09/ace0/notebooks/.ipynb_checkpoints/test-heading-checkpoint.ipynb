{
 "cells": [
  {
   "cell_type": "code",
   "execution_count": 1,
   "metadata": {
    "collapsed": false
   },
   "outputs": [],
   "source": [
    "from fighter import Fighter\n",
    "from side import Side"
   ]
  },
  {
   "cell_type": "code",
   "execution_count": 2,
   "metadata": {
    "collapsed": false
   },
   "outputs": [],
   "source": [
    "def run():\n",
    "    start = (1, 'Viper', 100, 100, 30)\n",
    "    f = Fighter(start, Side.Blue)\n",
    "    t, dt = 0.1, 0.1\n",
    "    \n",
    "    while t < 1000.0:\n",
    "        if t > 050.0: f.desired_heading = 000.0\n",
    "        if t > 200.0: f.desired_heading = 180.0\n",
    "        if t > 300.0: f.desired_heading = 270.0\n",
    "        if t > 400.0: f.desired_heading = 045.0\n",
    "        if t > 500.0: f.desired_heading = 000.0\n",
    "        if t > 600.0: f.desired_heading = 045.0\n",
    "        if t > 700.0: f.desired_heading = 135.0\n",
    "        if t > 800.0: f.desired_heading = 180.0\n",
    "        if t > 900.0: f.desired_heading = 215.0\n",
    "        f.tick(t, dt)\n",
    "        t += dt\n",
    "        \n",
    "    return f"
   ]
  },
  {
   "cell_type": "code",
   "execution_count": 3,
   "metadata": {
    "collapsed": false
   },
   "outputs": [],
   "source": [
    "f = run()"
   ]
  },
  {
   "cell_type": "code",
   "execution_count": 4,
   "metadata": {
    "collapsed": false
   },
   "outputs": [
    {
     "name": "stderr",
     "output_type": "stream",
     "text": [
      "/Users/mikepsn/anaconda/lib/python2.7/site-packages/matplotlib/font_manager.py:273: UserWarning: Matplotlib is building the font cache using fc-list. This may take a moment.\n",
      "  warnings.warn('Matplotlib is building the font cache using fc-list. This may take a moment.')\n"
     ]
    }
   ],
   "source": [
    "%matplotlib inline\n",
    "#%matplotlib notebook\n",
    "import matplotlib.pyplot as plt\n",
    "import numpy as np"
   ]
  },
  {
   "cell_type": "code",
   "execution_count": 5,
   "metadata": {
    "collapsed": false
   },
   "outputs": [
    {
     "data": {
      "text/plain": [
       "(100.0, 220.0, 90.0, 150.0)"
      ]
     },
     "execution_count": 5,
     "metadata": {},
     "output_type": "execute_result"
    },
    {
     "data": {
      "image/png": "[encoded data removed]",
      "text/plain": [
       "<matplotlib.figure.Figure at 0x10a01c310>"
      ]
     },
     "metadata": {},
     "output_type": "display_data"
    }
   ],
   "source": [
    "x = np.array([pos[1] for pos in f.trace])\n",
    "y = np.array([pos[2] for pos in f.trace])\n",
    "h = np.array([pos[3] for pos in f.trace])\n",
    "plt.plot(x, y, color='b', linestyle='-', markersize=10)\n",
    "plt.grid(True)\n",
    "plt.axis('equal')"
   ]
  },
  {
   "cell_type": "code",
   "execution_count": 6,
   "metadata": {
    "collapsed": false
   },
   "outputs": [],
   "source": [
    "from plotrun import plot_path"
   ]
  },
  {
   "cell_type": "code",
   "execution_count": 7,
   "metadata": {
    "collapsed": false
   },
   "outputs": [
    {
     "data": {
      "image/png": "[encoded data removed]",
      "text/plain": [
       "<matplotlib.figure.Figure at 0x10a010990>"
      ]
     },
     "metadata": {},
     "output_type": "display_data"
    }
   ],
   "source": [
    "plot_path(x, y, h, len(x)-1)"
   ]
  },
  {
   "cell_type": "code",
   "execution_count": 8,
   "metadata": {
    "collapsed": false
   },
   "outputs": [],
   "source": [
    "from ipywidgets import interact, interactive, fixed\n",
    "import ipywidgets as widgets"
   ]
  },
  {
   "cell_type": "code",
   "execution_count": 9,
   "metadata": {
    "collapsed": false
   },
   "outputs": [
    {
     "data": {
      "image/png": "[encoded data removed]",
      "text/plain": [
       "<matplotlib.figure.Figure at 0x10cb4d710>"
      ]
     },
     "metadata": {},
     "output_type": "display_data"
    }
   ],
   "source": [
    "p = interact(plot_path, x=fixed(x), y=fixed(y), h=fixed(h), t=(0,len(x)-1,1))"
   ]
  },
  {
   "cell_type": "code",
   "execution_count": 10,
   "metadata": {
    "collapsed": false
   },
   "outputs": [],
   "source": [
    "def draw_run(positions, t=25, style=\"-\"):\n",
    "    \"\"\" Note t is an index into an array representing the timeslice we are interested in.\"\"\"\n",
    "    #px, py, pz = p[0:t,0], p[0:t,1], p[0:t,2]\n",
    "    colours = ['Blue', 'Red', 'Green']\n",
    "    callsigns = {'Blue' : 'Warlock', 'Red' : 'Shogun', 'Green' : 'Viper'}\n",
    "    figure = plt.figure(figsize=(10,10))\n",
    "    #figure = plt.figure(figsize=(8,7))\n",
    "    axes = figure.gca(projection='3d')\n",
    "    axes.set_xlim([-15, 15])\n",
    "    axes.set_ylim([-15, 15])\n",
    "    axes.set_zlim([45, 55])\n",
    "    for ball in xrange(positions.shape[0]):\n",
    "        p = positions[ball] \n",
    "        px, py, pz = p[0:t,0], p[0:t,1], p[0:t,2]\n",
    "        timeslice_plot = axes.plot(px, py, pz, c=colours[ball], linestyle=style)\n",
    "        timeslice_plot = axes.text(p[t,0], p[t,1], p[t,2], callsigns[colours[ball]], color=colours[ball])\n",
    "    figure.show()\n",
    "    #return timeslice_plot"
   ]
  },
  {
   "cell_type": "code",
   "execution_count": 11,
   "metadata": {
    "collapsed": true
   },
   "outputs": [],
   "source": [
    "def sim():\n",
    "    viper_start = (1, 'Viper', 100, 70, 0)\n",
    "    cobra_start = (2, 'Cobra', 200, 70, 180)\n",
    "    \n",
    "    viper = Fighter(viper_start, Side.Blue)\n",
    "    cobra = Fighter(cobra_start, Side.Red)\n",
    "    \n",
    "    t, dt = 0.1, 0.1\n",
    "    \n",
    "    while t < 1000.0:\n",
    "        if t > 050.0: viper.desired_heading = 330.0\n",
    "        if t > 200.0: viper.desired_heading = 000.0\n",
    "        if t > 330.0: viper.desired_heading = 090.0\n",
    "        if t > 400.0: viper.desired_heading = 180.0\n",
    "        if t > 500.0: cobra.desired_heading = 300.0\n",
    "        if t > 550.0: viper.desired_heading = 300.0\n",
    "        if t > 600.0: cobra.desired_heading = 200.0\n",
    "        if t > 650.0: viper.desired_heading = 220.0\n",
    "        if t > 700.0: viper.desired_heading = 350.0\n",
    "        if t > 750.0: cobra.desired_heading = 340.0\n",
    "        \n",
    "        viper.tick(t, dt)\n",
    "        cobra.tick(t, dt)\n",
    "        \n",
    "        t += dt\n",
    "        \n",
    "        traces = [cobra, viper]\n",
    "        \n",
    "    return traces"
   ]
  },
  {
   "cell_type": "code",
   "execution_count": 12,
   "metadata": {
    "collapsed": true
   },
   "outputs": [],
   "source": [
    "def plot_path(x, y, h, t):\n",
    "    plt.plot(x[:t], y[:t], color='b', linestyle='-')\n",
    "    #plt.xlim([80, 180])\n",
    "    #plt.ylim([80, 180])\n",
    "    plt.grid(True)\n",
    "   \n",
    "    r, theta = 1, np.deg2rad(h[t])\n",
    "    dx, dy = r * np.cos(theta), r * np.sin(theta)\n",
    "\n",
    "    plt.arrow(x[t], y[t], dx, dy, \n",
    "              overhang=0, width=0.1,\n",
    "              shape='full', length_includes_head=True,\n",
    "              head_starts_at_zero=False)\n",
    "    plt.show()\n",
    "    \n",
    "def plot_traces(traces, t=6000):\n",
    "    plt.grid(True)\n",
    "    plt.axis('equal')\n",
    "    #plt.xlim(50,200)\n",
    "    #plt.ylim(50,100)\n",
    "    colour = {Side.Blue: 'b', Side.Red: 'r'}\n",
    "    for fighter in traces:\n",
    "        x = np.array([pos[1] for pos in fighter.trace])\n",
    "        y = np.array([pos[2] for pos in fighter.trace])\n",
    "        h = np.array([pos[3] for pos in fighter.trace])\n",
    "        \n",
    "        plt.plot(x[:t], y[:t], color=colour[fighter.side])\n",
    "        plt.text(x[t]+3, y[t]+3, fighter.callsign, color=colour[fighter.side])\n",
    "        \n",
    "        r, theta = 1, np.deg2rad(h[t])\n",
    "        dx, dy = r * np.cos(theta), r * np.sin(theta)\n",
    "        plt.arrow(x[t-1], y[t-1], dx, dy, overhang=0, width=0.2, fc=colour[fighter.side], ec=colour[fighter.side],\n",
    "              shape='full', length_includes_head=True,head_starts_at_zero=False)\n",
    "        \n",
    "    plt.show()"
   ]
  },
  {
   "cell_type": "code",
   "execution_count": 13,
   "metadata": {
    "collapsed": true
   },
   "outputs": [],
   "source": [
    "traces = sim()"
   ]
  },
  {
   "cell_type": "code",
   "execution_count": 14,
   "metadata": {
    "collapsed": false
   },
   "outputs": [
    {
     "data": {
      "image/png": "[encoded data removed]",
      "text/plain": [
       "<matplotlib.figure.Figure at 0x10d35ead0>"
      ]
     },
     "metadata": {},
     "output_type": "display_data"
    }
   ],
   "source": [
    "i = interact(plot_traces, traces=fixed(traces), t=(1,9999-1,1))"
   ]
  },
  {
   "cell_type": "code",
   "execution_count": null,
   "metadata": {
    "collapsed": true
   },
   "outputs": [],
   "source": []
  },
  {
   "cell_type": "code",
   "execution_count": null,
   "metadata": {
    "collapsed": true
   },
   "outputs": [],
   "source": []
  }
 ],
 "metadata": {
  "kernelspec": {
   "display_name": "Python 2",
   "language": "python",
   "name": "python2"
  },
  "language_info": {
   "codemirror_mode": {
    "name": "ipython",
    "version": 2
   },
   "file_extension": ".py",
   "mimetype": "text/x-python",
   "name": "python",
   "nbconvert_exporter": "python",
   "pygments_lexer": "ipython2",
   "version": "2.7.11"
  }
 },
 "nbformat": 4,
 "nbformat_minor": 0
}
